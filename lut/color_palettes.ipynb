{
 "cells": [
  {
   "cell_type": "code",
   "execution_count": 53,
   "id": "456c22dc-f3f7-4cbd-b586-f353d6a90093",
   "metadata": {},
   "outputs": [],
   "source": [
    "import os.path as op\n",
    "import numpy as np\n",
    "import seaborn as sns"
   ]
  },
  {
   "cell_type": "code",
   "execution_count": 64,
   "id": "7c5d6ee6-54aa-4ee0-9f9c-cdacb3b0f09d",
   "metadata": {},
   "outputs": [],
   "source": [
    "def compose_lut(palette,\n",
    "                n_colors=256,\n",
    "                gradient=True):\n",
    "    \"\"\"Return a .lut colormap file string in Mango style.\n",
    "    \n",
    "    See for detail: https://mangoviewer.com/colortablespec.html\n",
    "    \n",
    "    Parameters\n",
    "    ----------\n",
    "    palette : str\n",
    "        The seaborn or matplotlib color palette of choice.\n",
    "    n_colors : int\n",
    "        Number of colors in the palette.\n",
    "    gradient : bool\n",
    "        If True, colors change continuously between knots.\n",
    "        If False, colors change discretely between knots.\n",
    "    \"\"\"\n",
    "    gradient = int(gradient)\n",
    "    \n",
    "    # Get the RGB values at each knot.\n",
    "    colormap = np.rint(255 * np.array(sns.color_palette(palette, n_colors))).astype(int)\n",
    "    \n",
    "    # Compose the .lut string.\n",
    "    lut_str = (\n",
    "\"\"\"# The name of the color table\n",
    "Name={}\n",
    "\n",
    "# The number of knots used in this color table\n",
    "NumberOfKnots={}\n",
    "\n",
    "# List of knots, starting with zero.\n",
    "# Each knot consists of five space-delimited values:\n",
    "# Location - a decimal value from 0 to 1 - the placement of the knot along the color table continuum\n",
    "# Red - an integer value from 0 to 255 - the degree of red component\n",
    "# Green - an integer value from 0 to 255 - the degree of green component\n",
    "# Blue - an integer value from 0 to 255 - the degree of blue component\n",
    "# Gradient - a boolean value of 0 or 1 - if 1, then colors will change continuously between this knot and the next\n",
    "\"\"\"\n",
    "    )\n",
    "    lut_str = lut_str.format(palette, n_colors)\n",
    "    for idx, rgb in enumerate(colormap):\n",
    "        lut_str += \"Knot{}: {:.6f} {} {} {} {}\\n\".format(idx, idx/(n_colors-1), *rgb, gradient)\n",
    "        \n",
    "    return lut_str"
   ]
  },
  {
   "cell_type": "code",
   "execution_count": 65,
   "id": "3b9e7573-5303-40a5-89d2-6687a2f2a1d9",
   "metadata": {},
   "outputs": [],
   "source": [
    "# Save .lut files for the chosen palettes.\n",
    "n_colors = 256\n",
    "save_palettes = [['rocket', True],\n",
    "                 ['rocket_r', True],\n",
    "                 ['mako', True],\n",
    "                 ['mako_r', True],\n",
    "                 ['viridis', True],\n",
    "                 ['viridis_r', True],\n",
    "                 ['inferno', True],\n",
    "                 ['inferno_r', True],\n",
    "                 ['RdBu', True],\n",
    "                 ['RdBu_r', True],\n",
    "                 ['icefire', True],\n",
    "                 ['icefire_r', True],\n",
    "                 ['Blues', True],\n",
    "                 ['Blues_r', True],\n",
    "                 ['Reds', True],\n",
    "                 ['Reds_r', True]\n",
    "                ]\n",
    "data_dir = '/Users/dschonhaut/Box/code/style/lut'\n",
    "overwrite = False\n",
    "# -----------------------------\n",
    "\n",
    "for palette, gradient in save_palettes:\n",
    "    lutf = op.join(data_dir, '{}.lut'.format(palette))\n",
    "    lut_str = compose_lut(palette, n_colors, gradient)\n",
    "    if overwrite or not op.exists(lutf):\n",
    "        with open(lutf, 'w') as file:\n",
    "            file.write(lut_str)"
   ]
  },
  {
   "cell_type": "code",
   "execution_count": null,
   "id": "e6488fba-fe23-440e-a485-a1ad470b746e",
   "metadata": {},
   "outputs": [],
   "source": []
  }
 ],
 "metadata": {
  "kernelspec": {
   "display_name": "Python 3 (ipykernel)",
   "language": "python",
   "name": "python3"
  },
  "language_info": {
   "codemirror_mode": {
    "name": "ipython",
    "version": 3
   },
   "file_extension": ".py",
   "mimetype": "text/x-python",
   "name": "python",
   "nbconvert_exporter": "python",
   "pygments_lexer": "ipython3",
   "version": "3.10.6"
  }
 },
 "nbformat": 4,
 "nbformat_minor": 5
}
